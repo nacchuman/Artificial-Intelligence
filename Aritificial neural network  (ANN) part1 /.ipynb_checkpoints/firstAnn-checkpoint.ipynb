{
 "cells": [
  {
   "cell_type": "code",
   "execution_count": 3,
   "metadata": {},
   "outputs": [
    {
     "name": "stderr",
     "output_type": "stream",
     "text": [
      "/home/nissim/anaconda2/envs/ann/lib/python3.6/site-packages/matplotlib/font_manager.py:280: UserWarning: Matplotlib is building the font cache using fc-list. This may take a moment.\n",
      "  'Matplotlib is building the font cache using fc-list. '\n"
     ]
    }
   ],
   "source": [
    "#Data preprocessing . \n",
    "\n",
    "import numpy as np \n",
    "import matplotlib.pyplot as plt \n",
    "import pandas as pd \n",
    "\n",
    "# importing the dataset \n",
    "dataset = pd.read_csv('Churn_Modelling.csv')"
   ]
  },
  {
   "cell_type": "code",
   "execution_count": 4,
   "metadata": {},
   "outputs": [],
   "source": [
    "x = dataset.iloc[: ,3:13].values \n",
    "y = dataset.iloc[:, 13].values "
   ]
  },
  {
   "cell_type": "code",
   "execution_count": 6,
   "metadata": {},
   "outputs": [],
   "source": [
    "#Encoding categorical data\n",
    "from sklearn.preprocessing import LabelEncoder , OneHotEncoder "
   ]
  },
  {
   "cell_type": "code",
   "execution_count": 7,
   "metadata": {
    "collapsed": true
   },
   "outputs": [],
   "source": [
    "labelencoder_x_1 = LabelEncoder()\n",
    "x[:,1] = labelencoder_x_1.fit_transform(x[:,1])\n",
    "labelencoder_x_2 = LabelEncoder()\n",
    "x[:,2] = labelencoder_x_2.fit_transform(x[:,2])"
   ]
  },
  {
   "cell_type": "code",
   "execution_count": 8,
   "metadata": {},
   "outputs": [],
   "source": [
    "#Encodes the categorial variable in the first  column country since it was encoded to 0 , 1 ,2 we need to encode it again so that 2 does not have precedence over 0\n",
    "onehotencoder = OneHotEncoder(categorical_features = [1])\n",
    "x = onehotencoder.fit_transform(x).toarray()\n",
    "x = x [ :, 1:]"
   ]
  },
  {
   "cell_type": "code",
   "execution_count": 9,
   "metadata": {},
   "outputs": [
    {
     "data": {
      "text/plain": [
       "array([[  0.00000000e+00,   0.00000000e+00,   6.19000000e+02, ...,\n",
       "          1.00000000e+00,   1.00000000e+00,   1.01348880e+05],\n",
       "       [  0.00000000e+00,   1.00000000e+00,   6.08000000e+02, ...,\n",
       "          0.00000000e+00,   1.00000000e+00,   1.12542580e+05],\n",
       "       [  0.00000000e+00,   0.00000000e+00,   5.02000000e+02, ...,\n",
       "          1.00000000e+00,   0.00000000e+00,   1.13931570e+05],\n",
       "       ..., \n",
       "       [  0.00000000e+00,   0.00000000e+00,   7.09000000e+02, ...,\n",
       "          0.00000000e+00,   1.00000000e+00,   4.20855800e+04],\n",
       "       [  1.00000000e+00,   0.00000000e+00,   7.72000000e+02, ...,\n",
       "          1.00000000e+00,   0.00000000e+00,   9.28885200e+04],\n",
       "       [  0.00000000e+00,   0.00000000e+00,   7.92000000e+02, ...,\n",
       "          1.00000000e+00,   0.00000000e+00,   3.81907800e+04]])"
      ]
     },
     "execution_count": 9,
     "metadata": {},
     "output_type": "execute_result"
    }
   ],
   "source": [
    "x.view()"
   ]
  },
  {
   "cell_type": "code",
   "execution_count": 13,
   "metadata": {},
   "outputs": [],
   "source": [
    "from sklearn.cross_validation import train_test_split"
   ]
  },
  {
   "cell_type": "code",
   "execution_count": 14,
   "metadata": {
    "collapsed": true
   },
   "outputs": [],
   "source": [
    "x_train , x_test , y_train , y_test = train_test_split(x, y , test_size= 0.2, random_state=0 )"
   ]
  },
  {
   "cell_type": "code",
   "execution_count": 15,
   "metadata": {},
   "outputs": [],
   "source": [
    "# Feature scaling \n",
    "\n",
    "from sklearn.preprocessing import StandardScaler \n",
    "sc = StandardScaler()\n",
    "x_train = sc.fit_transform(x_train)\n",
    "x_test = sc.transform(x_test)"
   ]
  },
  {
   "cell_type": "code",
   "execution_count": 16,
   "metadata": {
    "scrolled": true
   },
   "outputs": [
    {
     "name": "stderr",
     "output_type": "stream",
     "text": [
      "Using TensorFlow backend.\n"
     ]
    }
   ],
   "source": [
    "# part 2 - now lets make the  ann \n",
    "\n",
    "# Import the keras lib and packages \n",
    "import keras"
   ]
  },
  {
   "cell_type": "code",
   "execution_count": 17,
   "metadata": {},
   "outputs": [],
   "source": [
    "from keras.models import Sequential \n",
    "from keras.layers import Dense "
   ]
  },
  {
   "cell_type": "code",
   "execution_count": 18,
   "metadata": {
    "collapsed": true
   },
   "outputs": [],
   "source": [
    "#initialize the neural network \n",
    "#That is defining it as a squence of layers . \n",
    "classifier  = Sequential()\n"
   ]
  },
  {
   "cell_type": "code",
   "execution_count": 23,
   "metadata": {},
   "outputs": [
    {
     "name": "stderr",
     "output_type": "stream",
     "text": [
      "/home/nissim/anaconda2/envs/ann/lib/python3.6/site-packages/ipykernel_launcher.py:4: UserWarning: Update your `Dense` call to the Keras 2 API: `Dense(activation=\"relu\", input_dim=11, units=6, kernel_initializer=\"uniform\")`\n",
      "  after removing the cwd from sys.path.\n",
      "/home/nissim/anaconda2/envs/ann/lib/python3.6/site-packages/ipykernel_launcher.py:7: UserWarning: Update your `Dense` call to the Keras 2 API: `Dense(activation=\"relu\", units=6, kernel_initializer=\"uniform\")`\n",
      "  import sys\n"
     ]
    }
   ],
   "source": [
    "#Ready to add layers to the ann, the initial layer and the hidden layers \n",
    "#Adding the first layer of the ann and the first hidden layer\n",
    "\n",
    "classifier.add(Dense(output_dim = 6, init= 'uniform' , activation= 'relu', input_dim=11 ))\n",
    "#The add method is used to add layers \n",
    "#Adding second hidden layer since the second hidden layer is not directly connected to the input layer the input dim parameter can be skipped\n",
    "# The activation relu corrosponds to rectifier activation function\n",
    "classifier.add(Dense(output_dim = 6, init= 'uniform' , activation= 'relu' ))\n",
    "\n",
    "\n"
   ]
  },
  {
   "cell_type": "code",
   "execution_count": 24,
   "metadata": {},
   "outputs": [
    {
     "name": "stderr",
     "output_type": "stream",
     "text": [
      "/home/nissim/anaconda2/envs/ann/lib/python3.6/site-packages/ipykernel_launcher.py:3: UserWarning: Update your `Dense` call to the Keras 2 API: `Dense(activation=\"sigmoid\", units=1, kernel_initializer=\"uniform\")`\n",
      "  This is separate from the ipykernel package so we can avoid doing imports until\n"
     ]
    }
   ],
   "source": [
    "# The activation sigmoid corrosponds to sigmoid function \n",
    "#When having more than one dependent parameter in the output layer use activation function as soft max \n",
    "classifier.add(Dense(output_dim = 1, init= 'uniform' , activation= 'sigmoid' ))\n"
   ]
  },
  {
   "cell_type": "code",
   "execution_count": 25,
   "metadata": {
    "collapsed": true
   },
   "outputs": [],
   "source": [
    "#Compiling the ann that is applying stochastic gradient descent to the network \n",
    "#Optimizer is the algorithm which is needed to be applied to tune the network there are many versions of the \n",
    "#algo an efficient one is aclled adam which we are using here \n",
    "#loss is a function inside stochastic gradident descent for eg the loss function ins imple regression was sum ( y - predicted y )\n",
    "#there are varios loss functions to choose from . it would be the same as logistic regression and is different from \n",
    "#that of sum of squared error and is a logarithmic function for the sigmoid function is called the logarithmic class\n",
    "#Hence the loss fuction here would be a logarithmic function as well if the dependent variable has a binary output the n\n",
    "#This funciton is called logarithmic_entropy and if more than two functions its called categorial_entropy\n",
    "#Third argument metrics is the accuracy criteria \n",
    "classifier.compile(optimizer = 'adam', loss='binary_crossentropy',metrics = ['accuracy'] )"
   ]
  },
  {
   "cell_type": "code",
   "execution_count": 27,
   "metadata": {},
   "outputs": [
    {
     "name": "stderr",
     "output_type": "stream",
     "text": [
      "/home/nissim/anaconda2/envs/ann/lib/python3.6/site-packages/keras/models.py:826: UserWarning: The `nb_epoch` argument in `fit` has been renamed `epochs`.\n",
      "  warnings.warn('The `nb_epoch` argument in `fit` '\n"
     ]
    },
    {
     "name": "stdout",
     "output_type": "stream",
     "text": [
      "Epoch 1/100\n",
      "8000/8000 [==============================] - 2s - loss: 0.4815 - acc: 0.7960     \n",
      "Epoch 2/100\n",
      "8000/8000 [==============================] - 1s - loss: 0.4306 - acc: 0.7960     \n",
      "Epoch 3/100\n",
      "8000/8000 [==============================] - 1s - loss: 0.4252 - acc: 0.8024     \n",
      "Epoch 4/100\n",
      "8000/8000 [==============================] - 1s - loss: 0.4198 - acc: 0.8226     \n",
      "Epoch 5/100\n",
      "8000/8000 [==============================] - 1s - loss: 0.4170 - acc: 0.8274     \n",
      "Epoch 6/100\n",
      "8000/8000 [==============================] - 1s - loss: 0.4152 - acc: 0.8284     \n",
      "Epoch 7/100\n",
      "8000/8000 [==============================] - 1s - loss: 0.4139 - acc: 0.8316     \n",
      "Epoch 8/100\n",
      "8000/8000 [==============================] - 1s - loss: 0.4130 - acc: 0.8312     \n",
      "Epoch 9/100\n",
      "8000/8000 [==============================] - 1s - loss: 0.4108 - acc: 0.8334     \n",
      "Epoch 10/100\n",
      "8000/8000 [==============================] - 1s - loss: 0.4106 - acc: 0.8320     \n",
      "Epoch 11/100\n",
      "8000/8000 [==============================] - 1s - loss: 0.4098 - acc: 0.8336     \n",
      "Epoch 12/100\n",
      "8000/8000 [==============================] - 1s - loss: 0.4088 - acc: 0.8332     \n",
      "Epoch 13/100\n",
      "8000/8000 [==============================] - 1s - loss: 0.4082 - acc: 0.8340     \n",
      "Epoch 14/100\n",
      "8000/8000 [==============================] - 1s - loss: 0.4082 - acc: 0.8355     \n",
      "Epoch 15/100\n",
      "8000/8000 [==============================] - 1s - loss: 0.4071 - acc: 0.8330     \n",
      "Epoch 16/100\n",
      "8000/8000 [==============================] - 1s - loss: 0.4063 - acc: 0.8347     \n",
      "Epoch 17/100\n",
      "8000/8000 [==============================] - 1s - loss: 0.4068 - acc: 0.8335     \n",
      "Epoch 18/100\n",
      "8000/8000 [==============================] - 1s - loss: 0.4060 - acc: 0.8334     \n",
      "Epoch 19/100\n",
      "8000/8000 [==============================] - 1s - loss: 0.4058 - acc: 0.8325     \n",
      "Epoch 20/100\n",
      "8000/8000 [==============================] - 1s - loss: 0.4060 - acc: 0.8330     \n",
      "Epoch 21/100\n",
      "8000/8000 [==============================] - 1s - loss: 0.4045 - acc: 0.8346     \n",
      "Epoch 22/100\n",
      "8000/8000 [==============================] - 1s - loss: 0.4048 - acc: 0.8344     \n",
      "Epoch 23/100\n",
      "8000/8000 [==============================] - 1s - loss: 0.4046 - acc: 0.8332     \n",
      "Epoch 24/100\n",
      "8000/8000 [==============================] - 2s - loss: 0.4046 - acc: 0.8344     \n",
      "Epoch 25/100\n",
      "8000/8000 [==============================] - 1s - loss: 0.4045 - acc: 0.8351     \n",
      "Epoch 26/100\n",
      "8000/8000 [==============================] - 1s - loss: 0.4054 - acc: 0.8336     \n",
      "Epoch 27/100\n",
      "8000/8000 [==============================] - 1s - loss: 0.4036 - acc: 0.8351     \n",
      "Epoch 28/100\n",
      "8000/8000 [==============================] - 1s - loss: 0.4036 - acc: 0.8354     \n",
      "Epoch 29/100\n",
      "8000/8000 [==============================] - 1s - loss: 0.4044 - acc: 0.8344     \n",
      "Epoch 30/100\n",
      "8000/8000 [==============================] - 1s - loss: 0.4047 - acc: 0.8349     \n",
      "Epoch 31/100\n",
      "8000/8000 [==============================] - 1s - loss: 0.4040 - acc: 0.8347     \n",
      "Epoch 32/100\n",
      "8000/8000 [==============================] - 1s - loss: 0.4030 - acc: 0.8335     \n",
      "Epoch 33/100\n",
      "8000/8000 [==============================] - 1s - loss: 0.4030 - acc: 0.8362     \n",
      "Epoch 34/100\n",
      "8000/8000 [==============================] - 1s - loss: 0.4024 - acc: 0.8349     \n",
      "Epoch 35/100\n",
      "8000/8000 [==============================] - 1s - loss: 0.4019 - acc: 0.8360     \n",
      "Epoch 36/100\n",
      "8000/8000 [==============================] - 1s - loss: 0.4023 - acc: 0.8344     \n",
      "Epoch 37/100\n",
      "8000/8000 [==============================] - 1s - loss: 0.4022 - acc: 0.8366     \n",
      "Epoch 38/100\n",
      "8000/8000 [==============================] - 1s - loss: 0.4010 - acc: 0.8365     \n",
      "Epoch 39/100\n",
      "8000/8000 [==============================] - 1s - loss: 0.4008 - acc: 0.8376     \n",
      "Epoch 40/100\n",
      "8000/8000 [==============================] - 1s - loss: 0.4012 - acc: 0.8354     \n",
      "Epoch 41/100\n",
      "8000/8000 [==============================] - 1s - loss: 0.4010 - acc: 0.8364     \n",
      "Epoch 42/100\n",
      "8000/8000 [==============================] - 1s - loss: 0.4009 - acc: 0.8369     \n",
      "Epoch 43/100\n",
      "8000/8000 [==============================] - 1s - loss: 0.4004 - acc: 0.8357     \n",
      "Epoch 44/100\n",
      "8000/8000 [==============================] - 1s - loss: 0.4006 - acc: 0.8357     \n",
      "Epoch 45/100\n",
      "8000/8000 [==============================] - 1s - loss: 0.4002 - acc: 0.8370     \n",
      "Epoch 46/100\n",
      "8000/8000 [==============================] - 1s - loss: 0.4001 - acc: 0.8376     \n",
      "Epoch 47/100\n",
      "8000/8000 [==============================] - 1s - loss: 0.4010 - acc: 0.8347     \n",
      "Epoch 48/100\n",
      "8000/8000 [==============================] - 1s - loss: 0.4001 - acc: 0.8351     \n",
      "Epoch 49/100\n",
      "8000/8000 [==============================] - 1s - loss: 0.4006 - acc: 0.8362     \n",
      "Epoch 50/100\n",
      "8000/8000 [==============================] - 1s - loss: 0.4002 - acc: 0.8371     \n",
      "Epoch 51/100\n",
      "8000/8000 [==============================] - 1s - loss: 0.4004 - acc: 0.8384     \n",
      "Epoch 52/100\n",
      "8000/8000 [==============================] - 1s - loss: 0.4008 - acc: 0.8371     \n",
      "Epoch 53/100\n",
      "8000/8000 [==============================] - 1s - loss: 0.4002 - acc: 0.8376     \n",
      "Epoch 54/100\n",
      "8000/8000 [==============================] - 1s - loss: 0.4003 - acc: 0.8352     \n",
      "Epoch 55/100\n",
      "8000/8000 [==============================] - 1s - loss: 0.3995 - acc: 0.8375     \n",
      "Epoch 56/100\n",
      "8000/8000 [==============================] - 1s - loss: 0.4006 - acc: 0.8349     \n",
      "Epoch 57/100\n",
      "8000/8000 [==============================] - 1s - loss: 0.3999 - acc: 0.8357     \n",
      "Epoch 58/100\n",
      "8000/8000 [==============================] - 1s - loss: 0.4000 - acc: 0.8354     \n",
      "Epoch 59/100\n",
      "8000/8000 [==============================] - 1s - loss: 0.3991 - acc: 0.8376     \n",
      "Epoch 60/100\n",
      "8000/8000 [==============================] - 1s - loss: 0.4005 - acc: 0.8377     \n",
      "Epoch 61/100\n",
      "8000/8000 [==============================] - 1s - loss: 0.3998 - acc: 0.8370     \n",
      "Epoch 62/100\n",
      "8000/8000 [==============================] - 1s - loss: 0.4000 - acc: 0.8379     \n",
      "Epoch 63/100\n",
      "8000/8000 [==============================] - 1s - loss: 0.3992 - acc: 0.8375     \n",
      "Epoch 64/100\n",
      "8000/8000 [==============================] - 1s - loss: 0.4001 - acc: 0.8379     \n",
      "Epoch 65/100\n",
      "8000/8000 [==============================] - 1s - loss: 0.3995 - acc: 0.8377     \n",
      "Epoch 66/100\n",
      "8000/8000 [==============================] - 1s - loss: 0.4000 - acc: 0.8360     \n",
      "Epoch 67/100\n",
      "8000/8000 [==============================] - 1s - loss: 0.4007 - acc: 0.8350     \n",
      "Epoch 68/100\n",
      "8000/8000 [==============================] - 1s - loss: 0.3999 - acc: 0.8382     \n",
      "Epoch 69/100\n",
      "8000/8000 [==============================] - 1s - loss: 0.3999 - acc: 0.8365     \n",
      "Epoch 70/100\n",
      "8000/8000 [==============================] - 1s - loss: 0.3994 - acc: 0.8367     \n",
      "Epoch 71/100\n",
      "8000/8000 [==============================] - 1s - loss: 0.3989 - acc: 0.8361     \n",
      "Epoch 72/100\n",
      "8000/8000 [==============================] - 1s - loss: 0.3996 - acc: 0.8346     \n",
      "Epoch 73/100\n",
      "8000/8000 [==============================] - 1s - loss: 0.3995 - acc: 0.8377     \n",
      "Epoch 74/100\n",
      "8000/8000 [==============================] - 1s - loss: 0.3991 - acc: 0.8364     \n",
      "Epoch 75/100\n",
      "8000/8000 [==============================] - 1s - loss: 0.3999 - acc: 0.8360     \n",
      "Epoch 76/100\n",
      "8000/8000 [==============================] - 1s - loss: 0.3999 - acc: 0.8376     \n",
      "Epoch 77/100\n",
      "8000/8000 [==============================] - 1s - loss: 0.4002 - acc: 0.8366     \n",
      "Epoch 78/100\n",
      "8000/8000 [==============================] - 1s - loss: 0.3993 - acc: 0.8369     \n",
      "Epoch 79/100\n",
      "8000/8000 [==============================] - 1s - loss: 0.3993 - acc: 0.8374     \n",
      "Epoch 80/100\n",
      "8000/8000 [==============================] - 1s - loss: 0.3983 - acc: 0.8369     \n",
      "Epoch 81/100\n",
      "8000/8000 [==============================] - 1s - loss: 0.3997 - acc: 0.8351     \n",
      "Epoch 82/100\n",
      "8000/8000 [==============================] - 1s - loss: 0.3993 - acc: 0.8350     \n",
      "Epoch 83/100\n",
      "8000/8000 [==============================] - 1s - loss: 0.3992 - acc: 0.8374     \n",
      "Epoch 84/100\n",
      "8000/8000 [==============================] - 1s - loss: 0.3994 - acc: 0.8365     \n",
      "Epoch 85/100\n",
      "8000/8000 [==============================] - 1s - loss: 0.3993 - acc: 0.8369     \n",
      "Epoch 86/100\n"
     ]
    },
    {
     "name": "stdout",
     "output_type": "stream",
     "text": [
      "8000/8000 [==============================] - 1s - loss: 0.3992 - acc: 0.8374     - ETA: 1s - loss:\n",
      "Epoch 87/100\n",
      "8000/8000 [==============================] - 1s - loss: 0.3992 - acc: 0.8369     \n",
      "Epoch 88/100\n",
      "8000/8000 [==============================] - 2s - loss: 0.3993 - acc: 0.8366     \n",
      "Epoch 89/100\n",
      "8000/8000 [==============================] - 2s - loss: 0.3990 - acc: 0.8355     \n",
      "Epoch 90/100\n",
      "8000/8000 [==============================] - 2s - loss: 0.3988 - acc: 0.8356     \n",
      "Epoch 91/100\n",
      "8000/8000 [==============================] - 2s - loss: 0.3993 - acc: 0.8365     \n",
      "Epoch 92/100\n",
      "8000/8000 [==============================] - 2s - loss: 0.3996 - acc: 0.8375     \n",
      "Epoch 93/100\n",
      "8000/8000 [==============================] - 2s - loss: 0.3997 - acc: 0.8367     \n",
      "Epoch 94/100\n",
      "8000/8000 [==============================] - 2s - loss: 0.3993 - acc: 0.8370     \n",
      "Epoch 95/100\n",
      "8000/8000 [==============================] - 2s - loss: 0.3988 - acc: 0.8365     \n",
      "Epoch 96/100\n",
      "8000/8000 [==============================] - 2s - loss: 0.3987 - acc: 0.8377     \n",
      "Epoch 97/100\n",
      "8000/8000 [==============================] - 2s - loss: 0.3989 - acc: 0.8352     \n",
      "Epoch 98/100\n",
      "8000/8000 [==============================] - 2s - loss: 0.3987 - acc: 0.8362     \n",
      "Epoch 99/100\n",
      "8000/8000 [==============================] - 2s - loss: 0.3986 - acc: 0.8374     \n",
      "Epoch 100/100\n",
      "8000/8000 [==============================] - 2s - loss: 0.3984 - acc: 0.8374     \n"
     ]
    },
    {
     "data": {
      "text/plain": [
       "<keras.callbacks.History at 0x7fe129b390b8>"
      ]
     },
     "execution_count": 27,
     "metadata": {},
     "output_type": "execute_result"
    }
   ],
   "source": [
    "#Fitting The Ann to the training set\n",
    "#The third argument is the batch size the numbe of observations after which we need to update the weights of the ann\n",
    "#And the fourth observation is the epoch , epoch is the  round when all the data has passed through the ann.\n",
    "\n",
    "classifier.fit(x_train,y_train, batch_size=10 , nb_epoch = 100)\n",
    "\n",
    "#Part 3 - making the predictions and evaluating the model \n",
    "#Predicting the T"
   ]
  },
  {
   "cell_type": "code",
   "execution_count": 28,
   "metadata": {
    "collapsed": true
   },
   "outputs": [],
   "source": [
    "y_pred = classifier.predict(x_test)"
   ]
  },
  {
   "cell_type": "code",
   "execution_count": 32,
   "metadata": {},
   "outputs": [],
   "source": [
    "y_pred= ( y_pred > 0.5)"
   ]
  },
  {
   "cell_type": "code",
   "execution_count": 33,
   "metadata": {},
   "outputs": [],
   "source": [
    "from sklearn.metrics import confusion_matrix\n",
    "cm = confusion_matrix(y_test, y_pred)"
   ]
  },
  {
   "cell_type": "code",
   "execution_count": 34,
   "metadata": {},
   "outputs": [
    {
     "data": {
      "text/plain": [
       "array([[1553,   42],\n",
       "       [ 269,  136]])"
      ]
     },
     "execution_count": 34,
     "metadata": {},
     "output_type": "execute_result"
    }
   ],
   "source": [
    "cm"
   ]
  },
  {
   "cell_type": "code",
   "execution_count": 35,
   "metadata": {},
   "outputs": [
    {
     "data": {
      "text/plain": [
       "0.8445"
      ]
     },
     "execution_count": 35,
     "metadata": {},
     "output_type": "execute_result"
    }
   ],
   "source": [
    "(1553+136)/2000"
   ]
  },
  {
   "cell_type": "code",
   "execution_count": 47,
   "metadata": {},
   "outputs": [
    {
     "data": {
      "text/plain": [
       "RowNumber            int64\n",
       "CustomerId           int64\n",
       "Surname             object\n",
       "CreditScore          int64\n",
       "Geography           object\n",
       "Gender              object\n",
       "Age                  int64\n",
       "Tenure               int64\n",
       "Balance            float64\n",
       "NumOfProducts        int64\n",
       "HasCrCard            int64\n",
       "IsActiveMember       int64\n",
       "EstimatedSalary    float64\n",
       "Exited               int64\n",
       "dtype: object"
      ]
     },
     "execution_count": 47,
     "metadata": {},
     "output_type": "execute_result"
    }
   ],
   "source": [
    "#Predicting for a single score .\n",
    "new_prediction = classifier.predict(sc.transform(np.array([[0,0,600,1,40,3,60000,2,1,1,50000]]))\n",
    "new_prediction = (new_prediction > 0.5 )"
   ]
  },
  {
   "cell_type": "code",
   "execution_count": 48,
   "metadata": {
    "collapsed": true
   },
   "outputs": [],
   "source": []
  },
  {
   "cell_type": "code",
   "execution_count": 65,
   "metadata": {},
   "outputs": [],
   "source": [
    "#Evaluating the ann\n",
    "from keras.wrappers.scikit_learn import KerasClassifier\n",
    "from sklearn.model_selection import cross_val_score "
   ]
  },
  {
   "cell_type": "code",
   "execution_count": 66,
   "metadata": {},
   "outputs": [],
   "source": [
    "def build_classifier():\n",
    "    classifier  = Sequential()\n",
    "    classifier.add(Dense(output_dim = 6, init= 'uniform' , activation= 'relu', input_dim=11 ))\n",
    "    classifier.add(Dense(output_dim = 6, init= 'uniform' , activation= 'relu' ))\n",
    "    classifier.add(Dense(output_dim = 1, init= 'uniform' , activation= 'sigmoid' ))\n",
    "    classifier.compile(optimizer = 'adam', loss='binary_crossentropy',metrics = ['accuracy'] )\n",
    "    return classifier\n",
    "    "
   ]
  },
  {
   "cell_type": "code",
   "execution_count": null,
   "metadata": {
    "collapsed": true
   },
   "outputs": [],
   "source": []
  },
  {
   "cell_type": "code",
   "execution_count": null,
   "metadata": {},
   "outputs": [],
   "source": []
  },
  {
   "cell_type": "code",
   "execution_count": null,
   "metadata": {
    "collapsed": true
   },
   "outputs": [],
   "source": []
  },
  {
   "cell_type": "code",
   "execution_count": null,
   "metadata": {},
   "outputs": [],
   "source": []
  },
  {
   "cell_type": "code",
   "execution_count": null,
   "metadata": {},
   "outputs": [],
   "source": []
  },
  {
   "cell_type": "code",
   "execution_count": null,
   "metadata": {
    "collapsed": true
   },
   "outputs": [],
   "source": []
  }
 ],
 "metadata": {
  "celltoolbar": "Raw Cell Format",
  "kernelspec": {
   "display_name": "Python 3",
   "language": "python",
   "name": "python3"
  },
  "language_info": {
   "codemirror_mode": {
    "name": "ipython",
    "version": 3
   },
   "file_extension": ".py",
   "mimetype": "text/x-python",
   "name": "python",
   "nbconvert_exporter": "python",
   "pygments_lexer": "ipython3",
   "version": "3.6.1"
  }
 },
 "nbformat": 4,
 "nbformat_minor": 2
}
